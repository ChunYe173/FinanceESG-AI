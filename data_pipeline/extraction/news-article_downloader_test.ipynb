{
 "cells": [
  {
   "cell_type": "code",
   "execution_count": 2,
   "metadata": {},
   "outputs": [],
   "source": [
    "from news_content.article_extractor import ArticleExtractor"
   ]
  },
  {
   "cell_type": "code",
   "execution_count": 3,
   "metadata": {},
   "outputs": [],
   "source": [
    "extractor = ArticleExtractor()"
   ]
  },
  {
   "cell_type": "code",
   "execution_count": 4,
   "metadata": {},
   "outputs": [
    {
     "name": "stdout",
     "output_type": "stream",
     "text": [
      "Failed to download article from https://www.bworldonline.com/corporate/2023/10/06/550067/sec-plans-two-formats-for-sustainability-reports/.\n",
      "Exception Message: Article `download()` failed with HTTPSConnectionPool(host='www.bworldonline.com', port=443): Read timed out. (read timeout=7) on URL https://www.bworldonline.com/corporate/2023/10/06/550067/sec-plans-two-formats-for-sustainability-reports/\n"
     ]
    }
   ],
   "source": [
    "content = extractor.get_articles(keywords=[\"sustainability reports\"],\n",
    "                                 languages=['english'],\n",
    "                                 source_countries=None,\n",
    "                                 gdelt_themes=None,\n",
    "                                 start_date=\"20230101\",\n",
    "                                 end_date=\"20231031\",\n",
    "                                 max_records=10)"
   ]
  },
  {
   "cell_type": "code",
   "execution_count": 5,
   "metadata": {},
   "outputs": [
    {
     "name": "stdout",
     "output_type": "stream",
     "text": [
      "url\n",
      "url_mobile\n",
      "title\n",
      "seendate\n",
      "socialimage\n",
      "domain\n",
      "language\n",
      "sourcecountry\n",
      "content\n"
     ]
    }
   ],
   "source": [
    "for article in content:\n",
    "    print(article[0:200])"
   ]
  },
  {
   "cell_type": "code",
   "execution_count": 8,
   "metadata": {},
   "outputs": [
    {
     "data": {
      "text/plain": [
       "pandas.core.frame.DataFrame"
      ]
     },
     "execution_count": 8,
     "metadata": {},
     "output_type": "execute_result"
    }
   ],
   "source": [
    "# check type of content\n",
    "type(content)"
   ]
  },
  {
   "cell_type": "code",
   "execution_count": 10,
   "metadata": {},
   "outputs": [
    {
     "data": {
      "text/html": [
       "<div>\n",
       "<style scoped>\n",
       "    .dataframe tbody tr th:only-of-type {\n",
       "        vertical-align: middle;\n",
       "    }\n",
       "\n",
       "    .dataframe tbody tr th {\n",
       "        vertical-align: top;\n",
       "    }\n",
       "\n",
       "    .dataframe thead th {\n",
       "        text-align: right;\n",
       "    }\n",
       "</style>\n",
       "<table border=\"1\" class=\"dataframe\">\n",
       "  <thead>\n",
       "    <tr style=\"text-align: right;\">\n",
       "      <th></th>\n",
       "      <th>url</th>\n",
       "      <th>url_mobile</th>\n",
       "      <th>title</th>\n",
       "      <th>seendate</th>\n",
       "      <th>socialimage</th>\n",
       "      <th>domain</th>\n",
       "      <th>language</th>\n",
       "      <th>sourcecountry</th>\n",
       "      <th>content</th>\n",
       "    </tr>\n",
       "  </thead>\n",
       "  <tbody>\n",
       "    <tr>\n",
       "      <th>0</th>\n",
       "      <td>https://www.bworldonline.com/corporate/2023/10...</td>\n",
       "      <td>https://www.bworldonline.com/corporate/2023/10...</td>\n",
       "      <td>SEC plans two formats for sustainability repor...</td>\n",
       "      <td>20231005T204500Z</td>\n",
       "      <td>https://www.bworldonline.com/wp-content/upload...</td>\n",
       "      <td>bworldonline.com</td>\n",
       "      <td>English</td>\n",
       "      <td>Philippines</td>\n",
       "      <td></td>\n",
       "    </tr>\n",
       "    <tr>\n",
       "      <th>1</th>\n",
       "      <td>https://www.philstar.com/business/2023/10/06/2...</td>\n",
       "      <td>https://www.philstar.com/business/2023/10/06/2...</td>\n",
       "      <td>Listed firms told to step up sustainability re...</td>\n",
       "      <td>20231005T210000Z</td>\n",
       "      <td></td>\n",
       "      <td>philstar.com</td>\n",
       "      <td>English</td>\n",
       "      <td>Philippines</td>\n",
       "      <td>Listed firms told to step up sustainability re...</td>\n",
       "    </tr>\n",
       "    <tr>\n",
       "      <th>2</th>\n",
       "      <td>https://menafn.com/1106784955/A-Sustainable-Sh...</td>\n",
       "      <td></td>\n",
       "      <td>A Sustainable Shift : From Csr To Esg</td>\n",
       "      <td>20230804T223000Z</td>\n",
       "      <td>https://menafn.com/updates/pr/2023-08/04/3_c6b...</td>\n",
       "      <td>menafn.com</td>\n",
       "      <td>English</td>\n",
       "      <td>Qatar</td>\n",
       "      <td>Legal Disclaimer:\\n\\nMENAFN provides the infor...</td>\n",
       "    </tr>\n",
       "    <tr>\n",
       "      <th>3</th>\n",
       "      <td>https://www.streetinsider.com/Accesswire/A+Sus...</td>\n",
       "      <td></td>\n",
       "      <td>A Sustainable Shift : From CSR to ESG</td>\n",
       "      <td>20230804T163000Z</td>\n",
       "      <td></td>\n",
       "      <td>streetinsider.com</td>\n",
       "      <td>English</td>\n",
       "      <td>United States</td>\n",
       "      <td>NORTHAMPTON, MA / ACCESSWIRE / August 4, 2023 ...</td>\n",
       "    </tr>\n",
       "    <tr>\n",
       "      <th>4</th>\n",
       "      <td>https://businessmirror.com.ph/2023/10/06/new-s...</td>\n",
       "      <td></td>\n",
       "      <td>New sustainability rules will reflect global...</td>\n",
       "      <td>20231005T170000Z</td>\n",
       "      <td>https://businessmirror.com.ph/wp-content/uploa...</td>\n",
       "      <td>businessmirror.com.ph</td>\n",
       "      <td>English</td>\n",
       "      <td>Philippines</td>\n",
       "      <td>The Securities and Exchange Commission (SEC) o...</td>\n",
       "    </tr>\n",
       "  </tbody>\n",
       "</table>\n",
       "</div>"
      ],
      "text/plain": [
       "                                                 url  \\\n",
       "0  https://www.bworldonline.com/corporate/2023/10...   \n",
       "1  https://www.philstar.com/business/2023/10/06/2...   \n",
       "2  https://menafn.com/1106784955/A-Sustainable-Sh...   \n",
       "3  https://www.streetinsider.com/Accesswire/A+Sus...   \n",
       "4  https://businessmirror.com.ph/2023/10/06/new-s...   \n",
       "\n",
       "                                          url_mobile  \\\n",
       "0  https://www.bworldonline.com/corporate/2023/10...   \n",
       "1  https://www.philstar.com/business/2023/10/06/2...   \n",
       "2                                                      \n",
       "3                                                      \n",
       "4                                                      \n",
       "\n",
       "                                               title          seendate  \\\n",
       "0  SEC plans two formats for sustainability repor...  20231005T204500Z   \n",
       "1  Listed firms told to step up sustainability re...  20231005T210000Z   \n",
       "2              A Sustainable Shift : From Csr To Esg  20230804T223000Z   \n",
       "3              A Sustainable Shift : From CSR to ESG  20230804T163000Z   \n",
       "4    New sustainability rules will reflect global...  20231005T170000Z   \n",
       "\n",
       "                                         socialimage                 domain  \\\n",
       "0  https://www.bworldonline.com/wp-content/upload...       bworldonline.com   \n",
       "1                                                              philstar.com   \n",
       "2  https://menafn.com/updates/pr/2023-08/04/3_c6b...             menafn.com   \n",
       "3                                                         streetinsider.com   \n",
       "4  https://businessmirror.com.ph/wp-content/uploa...  businessmirror.com.ph   \n",
       "\n",
       "  language  sourcecountry                                            content  \n",
       "0  English    Philippines                                                     \n",
       "1  English    Philippines  Listed firms told to step up sustainability re...  \n",
       "2  English          Qatar  Legal Disclaimer:\\n\\nMENAFN provides the infor...  \n",
       "3  English  United States  NORTHAMPTON, MA / ACCESSWIRE / August 4, 2023 ...  \n",
       "4  English    Philippines  The Securities and Exchange Commission (SEC) o...  "
      ]
     },
     "execution_count": 10,
     "metadata": {},
     "output_type": "execute_result"
    }
   ],
   "source": [
    "content.head()"
   ]
  },
  {
   "cell_type": "code",
   "execution_count": 11,
   "metadata": {},
   "outputs": [
    {
     "data": {
      "text/plain": [
       "Index(['url', 'url_mobile', 'title', 'seendate', 'socialimage', 'domain',\n",
       "       'language', 'sourcecountry', 'content'],\n",
       "      dtype='object')"
      ]
     },
     "execution_count": 11,
     "metadata": {},
     "output_type": "execute_result"
    }
   ],
   "source": [
    "content.columns"
   ]
  }
 ],
 "metadata": {
  "kernelspec": {
   "display_name": "base",
   "language": "python",
   "name": "python3"
  },
  "language_info": {
   "codemirror_mode": {
    "name": "ipython",
    "version": 3
   },
   "file_extension": ".py",
   "mimetype": "text/x-python",
   "name": "python",
   "nbconvert_exporter": "python",
   "pygments_lexer": "ipython3",
   "version": "3.9.12"
  }
 },
 "nbformat": 4,
 "nbformat_minor": 2
}
